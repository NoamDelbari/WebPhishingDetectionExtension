{
 "cells": [
  {
   "cell_type": "markdown",
   "id": "25b5f718",
   "metadata": {},
   "source": [
    "# Using the DataLoader\n",
    "This notebook demonstrates how to use the `get_dataloader` function to load and split data from a CSV file."
   ]
  },
  {
   "cell_type": "code",
   "execution_count": 1,
   "id": "13c305f5",
   "metadata": {},
   "outputs": [],
   "source": [
    "# Import the required function\n",
    "from phishing_detector.training.data_loader import get_dataloader"
   ]
  },
  {
   "cell_type": "code",
   "execution_count": 2,
   "id": "c5419fc2",
   "metadata": {},
   "outputs": [],
   "source": [
    "# Define the dataset path and parameters\n",
    "file_path = \"datasets/dataset_B_05_2020.csv\"\n",
    "batch_size = 32\n",
    "train_ratio = 0.9\n",
    "seed = 42"
   ]
  },
  {
   "cell_type": "code",
   "execution_count": 5,
   "id": "50e32443",
   "metadata": {},
   "outputs": [],
   "source": [
    "# Load the data using the DataLoader\n",
    "train_loader, eval_loader = get_dataloader(file_path, batch_size=batch_size, train_ratio=train_ratio, seed=seed)"
   ]
  },
  {
   "cell_type": "markdown",
   "id": "07dbaf2a",
   "metadata": {},
   "source": [
    "## Inspect the DataLoader\n",
    "Let's inspect the first batch of data from the training DataLoader."
   ]
  },
  {
   "cell_type": "code",
   "execution_count": 4,
   "id": "c3d70b55",
   "metadata": {},
   "outputs": [
    {
     "name": "stdout",
     "output_type": "stream",
     "text": [
      "Features: tensor([[ 43.,  15.,   0.,  ...,   0.,   0.,  10.],\n",
      "        [103.,  35.,   0.,  ...,   0.,   1.,   8.],\n",
      "        [ 35.,  15.,   0.,  ...,   0.,   0.,   7.],\n",
      "        ...,\n",
      "        [ 40.,  12.,   0.,  ...,   0.,   1.,   1.],\n",
      "        [ 53.,  16.,   0.,  ...,   0.,   1.,   0.],\n",
      "        [ 37.,  28.,   0.,  ...,   0.,   0.,   8.]])\n",
      "Labels: tensor([0, 0, 0, 1, 0, 0, 1, 1, 0, 1, 1, 1, 0, 1, 0, 0, 0, 0, 0, 1, 0, 0, 0, 1,\n",
      "        0, 0, 1, 1, 0, 1, 1, 0])\n"
     ]
    }
   ],
   "source": [
    "# Iterate through the train DataLoader and print the first batch\n",
    "for batch in train_loader:\n",
    "    X_batch, y_batch = batch\n",
    "    print(\"Features:\", X_batch)\n",
    "    print(\"Labels:\", y_batch)\n",
    "    break"
   ]
  }
 ],
 "metadata": {
  "kernelspec": {
   "display_name": "DS38-Dev",
   "language": "python",
   "name": "python3"
  },
  "language_info": {
   "codemirror_mode": {
    "name": "ipython",
    "version": 3
   },
   "file_extension": ".py",
   "mimetype": "text/x-python",
   "name": "python",
   "nbconvert_exporter": "python",
   "pygments_lexer": "ipython3",
   "version": "3.8.5"
  }
 },
 "nbformat": 4,
 "nbformat_minor": 5
}
